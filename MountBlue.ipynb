{
 "cells": [
  {
   "cell_type": "code",
   "execution_count": null,
   "id": "11190d43",
   "metadata": {},
   "outputs": [],
   "source": [
    "#WAP to find odd and even count number of words in a given String \n",
    "A=input(\"Enter A String\")\n",
    "ec,oc=0,0\n",
    "a=A.split(\" \")\n",
    "for i in a:\n",
    "    if len(i)%2==0:\n",
    "        ec+=1\n",
    "    else:\n",
    "        oc+=1\n",
    "print(oc,ec)\n"
   ]
  },
  {
   "cell_type": "code",
   "execution_count": null,
   "id": "69d275c9",
   "metadata": {},
   "outputs": [],
   "source": [
    "#Replacing Selected Character with the Specify Character\n",
    "A=input(\"enter a string\")\n",
    "B=input(\"Choose character for replacement\")\n",
    "C=input(\"Enter character to replace with B character\")\n",
    "finalStr=[]\n",
    "for i in A:\n",
    "    if i==B:\n",
    "        finalStr.append(C)\n",
    "    else:\n",
    "        finalStr.append(i)\n",
    "print(\"\".join(finalStr))"
   ]
  },
  {
   "cell_type": "code",
   "execution_count": null,
   "id": "0490c61b",
   "metadata": {},
   "outputs": [
    {
     "name": "stdout",
     "output_type": "stream",
     "text": [
      "Enter N Values8\n"
     ]
    }
   ],
   "source": [
    "#Consider an array and compare the value of itself with the next value and if the next value is lesser than itself sum both values\n",
    "N=int(input(\"Enter N Values\"))\n",
    "A=[]\n",
    "for _ in range(N):\n",
    "    while True:\n",
    "        try:\n",
    "            val=int(input())\n",
    "            A.append(val)\n",
    "            break\n",
    "        except ValueError:\n",
    "            print(\"Invalid Literal\")\n",
    "print(A)\n",
    "l=[]\n",
    "\n",
    "for i in range(len(A)-1):\n",
    "    if A[i]<A[i+1]:\n",
    "        curr=A[i]+A[i+1]\n",
    "        i=i+2\n",
    "        l.append(curr)\n",
    "    else:\n",
    "        i=i+1\n",
    "        \n",
    "print(l)\n",
    "\n",
    "\n"
   ]
  },
  {
   "cell_type": "code",
   "execution_count": null,
   "id": "8c31198f",
   "metadata": {},
   "outputs": [],
   "source": []
  }
 ],
 "metadata": {
  "kernelspec": {
   "display_name": "Python 3 (ipykernel)",
   "language": "python",
   "name": "python3"
  },
  "language_info": {
   "codemirror_mode": {
    "name": "ipython",
    "version": 3
   },
   "file_extension": ".py",
   "mimetype": "text/x-python",
   "name": "python",
   "nbconvert_exporter": "python",
   "pygments_lexer": "ipython3",
   "version": "3.11.4"
  }
 },
 "nbformat": 4,
 "nbformat_minor": 5
}
